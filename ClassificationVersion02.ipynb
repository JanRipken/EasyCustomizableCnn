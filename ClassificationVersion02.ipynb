{
 "cells": [
  {
   "cell_type": "markdown",
   "id": "abb23816-0e31-4007-b997-81d834f239f8",
   "metadata": {},
   "source": [
    "## Imports"
   ]
  },
  {
   "cell_type": "code",
   "execution_count": 59,
   "id": "fdcb33ab-c1a8-42f2-ab1d-4de6006385c3",
   "metadata": {},
   "outputs": [],
   "source": [
    "import os\n",
    "import tensorflow as tf\n",
    "import cv2\n",
    "import numpy as np\n",
    "from tensorflow.keras.models import Sequential\n",
    "from tensorflow.keras.layers import Conv2D, MaxPooling2D, Dense, Flatten\n",
    "from tensorflow.keras.models import load_model\n",
    "from tensorflow.keras.utils import to_categorical"
   ]
  },
  {
   "cell_type": "markdown",
   "id": "ac9f43fc-ba03-4312-9319-f30c94e86ff2",
   "metadata": {},
   "source": [
    "## Enable GPU memory growth"
   ]
  },
  {
   "cell_type": "code",
   "execution_count": 86,
   "id": "f6bf8a64-e093-4ea1-a76d-3f3c168807be",
   "metadata": {},
   "outputs": [],
   "source": [
    "gpus = tf.config.experimental.list_physical_devices('GPU')\n",
    "for gpu in gpus:\n",
    "    tf.config.experimental.set_memory_growth(gpu, True)"
   ]
  },
  {
   "cell_type": "markdown",
   "id": "9b56d131-9274-4e00-b1c6-cc4261cc1d45",
   "metadata": {},
   "source": [
    "## Load data from directory and normalize"
   ]
  },
  {
   "cell_type": "code",
   "execution_count": 111,
   "id": "0bd34466-0774-4cc9-b4c2-26756af0c5b1",
   "metadata": {},
   "outputs": [
    {
     "name": "stdout",
     "output_type": "stream",
     "text": [
      "Found 316 files belonging to 4 classes.\n"
     ]
    }
   ],
   "source": [
    "data_dir = 'data'\n",
    "datasets = tf.keras.preprocessing.image_dataset_from_directory(data_dir,\n",
    "labels='inferred',\n",
    "label_mode='categorical',\n",
    "class_names=None,\n",
    "color_mode='rgb',\n",
    "batch_size=32,\n",
    "image_size=(256, 256),\n",
    "shuffle=True,\n",
    "seed=None,\n",
    "subset=None,\n",
    "interpolation='bilinear',\n",
    "follow_links=False)\n",
    "\n",
    "data = datasets.map(lambda x, y: (x / 255.0, y))\n"
   ]
  },
  {
   "cell_type": "markdown",
   "id": "eaf55916-a63d-45b0-95d9-91cbf15bfda6",
   "metadata": {},
   "source": [
    "## Split data into train, validation, and test sets"
   ]
  },
  {
   "cell_type": "code",
   "execution_count": 112,
   "id": "264b96bf-2761-4314-9f3b-cec1c924adae",
   "metadata": {},
   "outputs": [],
   "source": [
    "train_size = int(len(data) * 0.7)\n",
    "validation_size = int(len(data) * 0.2)\n",
    "test_size = int(len(data) * 0.1)\n",
    "train = data.take(train_size)\n",
    "validation = data.skip(train_size).take(validation_size)\n",
    "test = data.skip(train_size + validation_size).take(test_size)"
   ]
  },
  {
   "cell_type": "markdown",
   "id": "be0f33cf-413b-430b-b528-874f6a9a2f49",
   "metadata": {},
   "source": [
    "## Create model"
   ]
  },
  {
   "cell_type": "code",
   "execution_count": 113,
   "id": "95efa25d-66ec-4262-9809-ef00b30d5446",
   "metadata": {},
   "outputs": [],
   "source": [
    "model = Sequential()\n",
    "model.add(Conv2D(16, (3, 3), 1, activation='relu', input_shape=(256, 256, 3)))\n",
    "model.add(MaxPooling2D())\n",
    "model.add(Conv2D(32, (3, 3), 1, activation='relu'))\n",
    "model.add(MaxPooling2D())\n",
    "model.add(Conv2D(16, (3, 3), 1, activation='relu'))\n",
    "model.add(MaxPooling2D())\n",
    "model.add(Flatten())\n",
    "model.add(Dense(256, activation='relu'))\n",
    "model.add(Dense(len(datasets.class_names), activation='softmax'))\n",
    "model.compile('adam', loss=tf.losses.CategoricalCrossentropy(), metrics=['accuracy'])"
   ]
  },
  {
   "cell_type": "markdown",
   "id": "21a4bfc9-3f98-4b4c-aaf0-917dfa7cb84d",
   "metadata": {},
   "source": [
    "## Tensorboard logging"
   ]
  },
  {
   "cell_type": "code",
   "execution_count": 114,
   "id": "10522c55-ef48-4855-9c2f-d729d5017cc5",
   "metadata": {},
   "outputs": [],
   "source": [
    "logs='logs'\n",
    "tensorboard_callback = tf.keras.callbacks.TensorBoard(log_dir=logs)"
   ]
  },
  {
   "cell_type": "markdown",
   "id": "dea903ab-0fa6-4b3f-83a0-69d147e97b93",
   "metadata": {},
   "source": [
    "## Train model"
   ]
  },
  {
   "cell_type": "code",
   "execution_count": 115,
   "id": "fa6ed714-409a-47a5-9c46-c9842c5a3774",
   "metadata": {},
   "outputs": [
    {
     "name": "stdout",
     "output_type": "stream",
     "text": [
      "Epoch 1/20\n",
      "7/7 [==============================] - 6s 688ms/step - loss: 2.0288 - accuracy: 0.2902 - val_loss: 1.1322 - val_accuracy: 0.5156\n",
      "Epoch 2/20\n",
      "7/7 [==============================] - 5s 674ms/step - loss: 1.1798 - accuracy: 0.4018 - val_loss: 1.0419 - val_accuracy: 0.6250\n",
      "Epoch 3/20\n",
      "7/7 [==============================] - 6s 683ms/step - loss: 0.9225 - accuracy: 0.5536 - val_loss: 0.8563 - val_accuracy: 0.6719\n",
      "Epoch 4/20\n",
      "7/7 [==============================] - 6s 688ms/step - loss: 0.7868 - accuracy: 0.6920 - val_loss: 0.6597 - val_accuracy: 0.7812\n",
      "Epoch 5/20\n",
      "7/7 [==============================] - 5s 671ms/step - loss: 0.6008 - accuracy: 0.7812 - val_loss: 0.5271 - val_accuracy: 0.8125\n",
      "Epoch 6/20\n",
      "7/7 [==============================] - 5s 673ms/step - loss: 0.4345 - accuracy: 0.8750 - val_loss: 0.3709 - val_accuracy: 0.8906\n",
      "Epoch 7/20\n",
      "7/7 [==============================] - 5s 682ms/step - loss: 0.3791 - accuracy: 0.8661 - val_loss: 0.3247 - val_accuracy: 0.8906\n",
      "Epoch 8/20\n",
      "7/7 [==============================] - 6s 686ms/step - loss: 0.3032 - accuracy: 0.9196 - val_loss: 0.1620 - val_accuracy: 0.9531\n",
      "Epoch 9/20\n",
      "7/7 [==============================] - 6s 683ms/step - loss: 0.2111 - accuracy: 0.9375 - val_loss: 0.1595 - val_accuracy: 0.9531\n",
      "Epoch 10/20\n",
      "7/7 [==============================] - 5s 684ms/step - loss: 0.1584 - accuracy: 0.9643 - val_loss: 0.0778 - val_accuracy: 0.9844\n",
      "Epoch 11/20\n",
      "7/7 [==============================] - 5s 679ms/step - loss: 0.0872 - accuracy: 0.9821 - val_loss: 0.0904 - val_accuracy: 0.9688\n",
      "Epoch 12/20\n",
      "7/7 [==============================] - 5s 677ms/step - loss: 0.0548 - accuracy: 0.9866 - val_loss: 0.0264 - val_accuracy: 1.0000\n",
      "Epoch 13/20\n",
      "7/7 [==============================] - 5s 676ms/step - loss: 0.0578 - accuracy: 0.9866 - val_loss: 0.0435 - val_accuracy: 1.0000\n",
      "Epoch 14/20\n",
      "7/7 [==============================] - 5s 674ms/step - loss: 0.0266 - accuracy: 1.0000 - val_loss: 0.0270 - val_accuracy: 1.0000\n",
      "Epoch 15/20\n",
      "7/7 [==============================] - 5s 672ms/step - loss: 0.0157 - accuracy: 1.0000 - val_loss: 0.0061 - val_accuracy: 1.0000\n",
      "Epoch 16/20\n",
      "7/7 [==============================] - 6s 684ms/step - loss: 0.0077 - accuracy: 1.0000 - val_loss: 0.0082 - val_accuracy: 1.0000\n",
      "Epoch 17/20\n",
      "7/7 [==============================] - 5s 680ms/step - loss: 0.0058 - accuracy: 1.0000 - val_loss: 0.0046 - val_accuracy: 1.0000\n",
      "Epoch 18/20\n",
      "7/7 [==============================] - 5s 676ms/step - loss: 0.0042 - accuracy: 1.0000 - val_loss: 0.0043 - val_accuracy: 1.0000\n",
      "Epoch 19/20\n",
      "7/7 [==============================] - 5s 670ms/step - loss: 0.0033 - accuracy: 1.0000 - val_loss: 0.0022 - val_accuracy: 1.0000\n",
      "Epoch 20/20\n",
      "7/7 [==============================] - 5s 670ms/step - loss: 0.0022 - accuracy: 1.0000 - val_loss: 0.0011 - val_accuracy: 1.0000\n"
     ]
    }
   ],
   "source": [
    "hist = model.fit(train, epochs=20, validation_data=validation, callbacks=[tensorboard_callback])"
   ]
  },
  {
   "cell_type": "markdown",
   "id": "b9a1528c-acef-45f3-9461-2f7f73cfcad1",
   "metadata": {},
   "source": [
    "## Save model"
   ]
  },
  {
   "cell_type": "code",
   "execution_count": 116,
   "id": "b0a89c7d-0823-4fd8-94d6-e70dcaf1e23f",
   "metadata": {},
   "outputs": [],
   "source": [
    "model.save(os.path.join('model','classifierModel.h5'))"
   ]
  },
  {
   "cell_type": "markdown",
   "id": "4ab522ec-65c6-429e-a530-0734b1ccf59f",
   "metadata": {},
   "source": [
    "## Test image"
   ]
  },
  {
   "cell_type": "code",
   "execution_count": 120,
   "id": "7c282935-2e35-465e-b78d-7e8660e6bedd",
   "metadata": {},
   "outputs": [
    {
     "name": "stdout",
     "output_type": "stream",
     "text": [
      "1/1 [==============================] - 0s 61ms/step\n",
      "Predicted class is flugzeuge\n"
     ]
    }
   ],
   "source": [
    "new_classifier_model = load_model(os.path.join('model', 'classifierModel.h5'))\n",
    "test_image = cv2.imread('flugzeug.jpeg')\n",
    "resized_test_image = tf.image.resize(test_image, (256, 256))\n",
    "prediction = new_classifier_model.predict(np.expand_dims(resized_test_image / 255, 0))\n",
    "predicted_class_index = np.argmax(prediction)\n",
    "predicted_class_name = datasets.class_names[predicted_class_index]\n",
    "\n",
    "print(f'Predicted class is {predicted_class_name}')"
   ]
  },
  {
   "cell_type": "code",
   "execution_count": null,
   "id": "08dd47c3-49e8-4b52-851f-78117f6b8770",
   "metadata": {},
   "outputs": [],
   "source": []
  }
 ],
 "metadata": {
  "kernelspec": {
   "display_name": "Python 3 (ipykernel)",
   "language": "python",
   "name": "python3"
  },
  "language_info": {
   "codemirror_mode": {
    "name": "ipython",
    "version": 3
   },
   "file_extension": ".py",
   "mimetype": "text/x-python",
   "name": "python",
   "nbconvert_exporter": "python",
   "pygments_lexer": "ipython3",
   "version": "3.10.9"
  }
 },
 "nbformat": 4,
 "nbformat_minor": 5
}
