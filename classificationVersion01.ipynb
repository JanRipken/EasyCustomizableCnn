{
 "cells": [
  {
   "cell_type": "code",
   "execution_count": 402,
   "id": "b4fadc71-9bfd-476e-9864-efbb5e636432",
   "metadata": {},
   "outputs": [],
   "source": [
    "import tensorflow as tf\n",
    "import cv2\n",
    "import numpy as np\n",
    "from tensorflow.keras.models import Sequential\n",
    "from tensorflow.keras.layers import Conv2D, MaxPooling2D, Dense, Flatten\n",
    "from tensorflow.keras.models import load_model"
   ]
  },
  {
   "cell_type": "code",
   "execution_count": 403,
   "id": "f0046d0c-8408-482c-a616-e5775109c841",
   "metadata": {},
   "outputs": [],
   "source": [
    "gpus = tf.config.experimental.list_physical_devices('GPU')\n",
    "for gpu in gpus: \n",
    "    tf.config.experimental.set_memory_growth(gpu, True)"
   ]
  },
  {
   "cell_type": "code",
   "execution_count": 404,
   "id": "039ae6a6-27fa-4a27-aaeb-928284180a05",
   "metadata": {},
   "outputs": [
    {
     "name": "stdout",
     "output_type": "stream",
     "text": [
      "Found 193 files belonging to 2 classes.\n"
     ]
    }
   ],
   "source": [
    "data = tf.keras.utils.image_dataset_from_directory('data')"
   ]
  },
  {
   "cell_type": "code",
   "execution_count": 405,
   "id": "88eb0eef-fc46-4989-afb9-ac949bf8a033",
   "metadata": {},
   "outputs": [],
   "source": [
    "data_iterator = data.as_numpy_iterator()"
   ]
  },
  {
   "cell_type": "code",
   "execution_count": 406,
   "id": "6dd4a19c-0aa6-4da1-8a11-e3a96a44576a",
   "metadata": {},
   "outputs": [],
   "source": [
    "batch = data_iterator.next()"
   ]
  },
  {
   "cell_type": "code",
   "execution_count": 407,
   "id": "988dfdca-c695-4254-94f9-4710ffbd4269",
   "metadata": {},
   "outputs": [],
   "source": [
    "data = data.map(lambda x,y: (x/255, y))"
   ]
  },
  {
   "cell_type": "code",
   "execution_count": 408,
   "id": "8753bad9-0ed3-4193-9d77-f0033796045e",
   "metadata": {},
   "outputs": [],
   "source": [
    "train_size = int(len(data)*.7)\n",
    "validation_size = int(len(data)*.2)\n",
    "test_size = int(len(data)*.1)"
   ]
  },
  {
   "cell_type": "code",
   "execution_count": 410,
   "id": "aef9d988-71c5-4b28-a990-134439728ea1",
   "metadata": {},
   "outputs": [],
   "source": [
    "train = data.take(train_size)\n",
    "validationData = data.skip(train_size).take(validation_size)\n",
    "test = data.skip(train_size+validation_size).take(test_size)"
   ]
  },
  {
   "cell_type": "code",
   "execution_count": 411,
   "id": "63a3df50-4370-4dd5-a384-dd7de1d084dd",
   "metadata": {},
   "outputs": [],
   "source": [
    "model = Sequential()"
   ]
  },
  {
   "cell_type": "code",
   "execution_count": 412,
   "id": "c0f20f37-b7c4-48ee-820b-e497a31e7019",
   "metadata": {},
   "outputs": [],
   "source": [
    "model.add(Conv2D(16, (3,3), 1, activation='relu', input_shape=(256,256,3)))\n",
    "model.add(MaxPooling2D())\n",
    "model.add(Conv2D(32, (3,3), 1, activation='relu'))\n",
    "model.add(MaxPooling2D())\n",
    "model.add(Conv2D(16, (3,3), 1, activation='relu'))\n",
    "model.add(MaxPooling2D())\n",
    "model.add(Flatten())\n",
    "model.add(Dense(256, activation='relu'))\n",
    "model.add(Dense(1, activation='sigmoid'))"
   ]
  },
  {
   "cell_type": "code",
   "execution_count": 413,
   "id": "30faa88f-c295-4204-ba30-7c4e34844323",
   "metadata": {},
   "outputs": [],
   "source": [
    "model.compile('adam', loss=tf.losses.BinaryCrossentropy(), metrics=['accuracy'])"
   ]
  },
  {
   "cell_type": "code",
   "execution_count": 414,
   "id": "1980ed34-587b-4bdf-87be-4ee7c6274251",
   "metadata": {},
   "outputs": [],
   "source": [
    "logs='logs'"
   ]
  },
  {
   "cell_type": "code",
   "execution_count": 415,
   "id": "c2349d15-b41c-4cd0-8b75-843012131d47",
   "metadata": {},
   "outputs": [],
   "source": [
    "tensorboard_callback = tf.keras.callbacks.TensorBoard(log_dir=logs)"
   ]
  },
  {
   "cell_type": "code",
   "execution_count": 416,
   "id": "044fc940-7547-4893-b0b0-45906eb4f6c8",
   "metadata": {},
   "outputs": [
    {
     "name": "stdout",
     "output_type": "stream",
     "text": [
      "Epoch 1/50\n",
      "4/4 [==============================] - 5s 944ms/step - loss: 2.1313 - accuracy: 0.4844 - val_loss: 1.5488 - val_accuracy: 0.5000\n",
      "Epoch 2/50\n",
      "4/4 [==============================] - 4s 873ms/step - loss: 0.9557 - accuracy: 0.5625 - val_loss: 0.6552 - val_accuracy: 0.5625\n",
      "Epoch 3/50\n",
      "4/4 [==============================] - 4s 871ms/step - loss: 0.6741 - accuracy: 0.6797 - val_loss: 0.6463 - val_accuracy: 0.6875\n",
      "Epoch 4/50\n",
      "4/4 [==============================] - 4s 858ms/step - loss: 0.6263 - accuracy: 0.5703 - val_loss: 0.6022 - val_accuracy: 0.5625\n",
      "Epoch 5/50\n",
      "4/4 [==============================] - 4s 869ms/step - loss: 0.5264 - accuracy: 0.6094 - val_loss: 0.5535 - val_accuracy: 0.5938\n",
      "Epoch 6/50\n",
      "4/4 [==============================] - 4s 876ms/step - loss: 0.4982 - accuracy: 0.7500 - val_loss: 0.5516 - val_accuracy: 0.8438\n",
      "Epoch 7/50\n",
      "4/4 [==============================] - 4s 876ms/step - loss: 0.4480 - accuracy: 0.8672 - val_loss: 0.3210 - val_accuracy: 0.9062\n",
      "Epoch 8/50\n",
      "4/4 [==============================] - 4s 862ms/step - loss: 0.3921 - accuracy: 0.8438 - val_loss: 0.3881 - val_accuracy: 0.7812\n",
      "Epoch 9/50\n",
      "4/4 [==============================] - 4s 869ms/step - loss: 0.3104 - accuracy: 0.8516 - val_loss: 0.4334 - val_accuracy: 0.8750\n",
      "Epoch 10/50\n",
      "4/4 [==============================] - 4s 879ms/step - loss: 0.3163 - accuracy: 0.8750 - val_loss: 0.1501 - val_accuracy: 1.0000\n",
      "Epoch 11/50\n",
      "4/4 [==============================] - 4s 872ms/step - loss: 0.2790 - accuracy: 0.8984 - val_loss: 0.2554 - val_accuracy: 0.9375\n",
      "Epoch 12/50\n",
      "4/4 [==============================] - 4s 878ms/step - loss: 0.1928 - accuracy: 0.9531 - val_loss: 0.1085 - val_accuracy: 0.9688\n",
      "Epoch 13/50\n",
      "4/4 [==============================] - 4s 877ms/step - loss: 0.1633 - accuracy: 0.9453 - val_loss: 0.1369 - val_accuracy: 0.9688\n",
      "Epoch 14/50\n",
      "4/4 [==============================] - 4s 857ms/step - loss: 0.1064 - accuracy: 0.9766 - val_loss: 0.1014 - val_accuracy: 0.9688\n",
      "Epoch 15/50\n",
      "4/4 [==============================] - 4s 888ms/step - loss: 0.0955 - accuracy: 0.9688 - val_loss: 0.0953 - val_accuracy: 0.9375\n",
      "Epoch 16/50\n",
      "4/4 [==============================] - 4s 860ms/step - loss: 0.0528 - accuracy: 0.9844 - val_loss: 0.0452 - val_accuracy: 1.0000\n",
      "Epoch 17/50\n",
      "4/4 [==============================] - 4s 866ms/step - loss: 0.0712 - accuracy: 0.9766 - val_loss: 0.0317 - val_accuracy: 1.0000\n",
      "Epoch 18/50\n",
      "4/4 [==============================] - 4s 865ms/step - loss: 0.0458 - accuracy: 0.9844 - val_loss: 0.0442 - val_accuracy: 1.0000\n",
      "Epoch 19/50\n",
      "4/4 [==============================] - 4s 857ms/step - loss: 0.0235 - accuracy: 1.0000 - val_loss: 0.0171 - val_accuracy: 1.0000\n",
      "Epoch 20/50\n",
      "4/4 [==============================] - 4s 861ms/step - loss: 0.0183 - accuracy: 1.0000 - val_loss: 0.0122 - val_accuracy: 1.0000\n",
      "Epoch 21/50\n",
      "4/4 [==============================] - 4s 868ms/step - loss: 0.0093 - accuracy: 1.0000 - val_loss: 0.0068 - val_accuracy: 1.0000\n",
      "Epoch 22/50\n",
      "4/4 [==============================] - 4s 889ms/step - loss: 0.0084 - accuracy: 1.0000 - val_loss: 0.0041 - val_accuracy: 1.0000\n",
      "Epoch 23/50\n",
      "4/4 [==============================] - 4s 862ms/step - loss: 0.0054 - accuracy: 1.0000 - val_loss: 0.0056 - val_accuracy: 1.0000\n",
      "Epoch 24/50\n",
      "4/4 [==============================] - 4s 862ms/step - loss: 0.0047 - accuracy: 1.0000 - val_loss: 0.0036 - val_accuracy: 1.0000\n",
      "Epoch 25/50\n",
      "4/4 [==============================] - 4s 832ms/step - loss: 0.0025 - accuracy: 1.0000 - val_loss: 0.0022 - val_accuracy: 1.0000\n",
      "Epoch 26/50\n",
      "4/4 [==============================] - 4s 889ms/step - loss: 0.0023 - accuracy: 1.0000 - val_loss: 0.0030 - val_accuracy: 1.0000\n",
      "Epoch 27/50\n",
      "4/4 [==============================] - 4s 865ms/step - loss: 0.0017 - accuracy: 1.0000 - val_loss: 4.8884e-04 - val_accuracy: 1.0000\n",
      "Epoch 28/50\n",
      "4/4 [==============================] - 4s 862ms/step - loss: 0.0014 - accuracy: 1.0000 - val_loss: 9.5724e-04 - val_accuracy: 1.0000\n",
      "Epoch 29/50\n",
      "4/4 [==============================] - 4s 865ms/step - loss: 0.0013 - accuracy: 1.0000 - val_loss: 6.5047e-04 - val_accuracy: 1.0000\n",
      "Epoch 30/50\n",
      "4/4 [==============================] - 4s 881ms/step - loss: 9.2825e-04 - accuracy: 1.0000 - val_loss: 4.7579e-04 - val_accuracy: 1.0000\n",
      "Epoch 31/50\n",
      "4/4 [==============================] - 4s 868ms/step - loss: 8.8818e-04 - accuracy: 1.0000 - val_loss: 0.0010 - val_accuracy: 1.0000\n",
      "Epoch 32/50\n",
      "4/4 [==============================] - 4s 888ms/step - loss: 7.8041e-04 - accuracy: 1.0000 - val_loss: 6.5178e-04 - val_accuracy: 1.0000\n",
      "Epoch 33/50\n",
      "4/4 [==============================] - 4s 882ms/step - loss: 8.0949e-04 - accuracy: 1.0000 - val_loss: 7.0025e-04 - val_accuracy: 1.0000\n",
      "Epoch 34/50\n",
      "4/4 [==============================] - 4s 900ms/step - loss: 5.2516e-04 - accuracy: 1.0000 - val_loss: 4.4687e-04 - val_accuracy: 1.0000\n",
      "Epoch 35/50\n",
      "4/4 [==============================] - 4s 886ms/step - loss: 5.2021e-04 - accuracy: 1.0000 - val_loss: 7.0084e-04 - val_accuracy: 1.0000\n",
      "Epoch 36/50\n",
      "4/4 [==============================] - 4s 867ms/step - loss: 4.1677e-04 - accuracy: 1.0000 - val_loss: 1.3840e-04 - val_accuracy: 1.0000\n",
      "Epoch 37/50\n",
      "4/4 [==============================] - 4s 877ms/step - loss: 4.2673e-04 - accuracy: 1.0000 - val_loss: 5.4228e-04 - val_accuracy: 1.0000\n",
      "Epoch 38/50\n",
      "4/4 [==============================] - 4s 874ms/step - loss: 4.5402e-04 - accuracy: 1.0000 - val_loss: 2.2432e-04 - val_accuracy: 1.0000\n",
      "Epoch 39/50\n",
      "4/4 [==============================] - 4s 881ms/step - loss: 3.0698e-04 - accuracy: 1.0000 - val_loss: 2.8819e-04 - val_accuracy: 1.0000\n",
      "Epoch 40/50\n",
      "4/4 [==============================] - 4s 839ms/step - loss: 3.6036e-04 - accuracy: 1.0000 - val_loss: 7.8066e-05 - val_accuracy: 1.0000\n",
      "Epoch 41/50\n",
      "4/4 [==============================] - 4s 873ms/step - loss: 2.7864e-04 - accuracy: 1.0000 - val_loss: 2.1418e-04 - val_accuracy: 1.0000\n",
      "Epoch 42/50\n",
      "4/4 [==============================] - 4s 892ms/step - loss: 2.6634e-04 - accuracy: 1.0000 - val_loss: 3.1188e-04 - val_accuracy: 1.0000\n",
      "Epoch 43/50\n",
      "4/4 [==============================] - 4s 888ms/step - loss: 2.7919e-04 - accuracy: 1.0000 - val_loss: 3.0842e-04 - val_accuracy: 1.0000\n",
      "Epoch 44/50\n",
      "4/4 [==============================] - 4s 898ms/step - loss: 1.6729e-04 - accuracy: 1.0000 - val_loss: 1.8304e-04 - val_accuracy: 1.0000\n",
      "Epoch 45/50\n",
      "4/4 [==============================] - 4s 878ms/step - loss: 1.9072e-04 - accuracy: 1.0000 - val_loss: 1.4557e-04 - val_accuracy: 1.0000\n",
      "Epoch 46/50\n",
      "4/4 [==============================] - 4s 885ms/step - loss: 2.4089e-04 - accuracy: 1.0000 - val_loss: 1.9587e-04 - val_accuracy: 1.0000\n",
      "Epoch 47/50\n",
      "4/4 [==============================] - 4s 914ms/step - loss: 1.8933e-04 - accuracy: 1.0000 - val_loss: 1.5856e-04 - val_accuracy: 1.0000\n",
      "Epoch 48/50\n",
      "4/4 [==============================] - 4s 887ms/step - loss: 1.8448e-04 - accuracy: 1.0000 - val_loss: 1.3261e-04 - val_accuracy: 1.0000\n",
      "Epoch 49/50\n",
      "4/4 [==============================] - 4s 892ms/step - loss: 1.8675e-04 - accuracy: 1.0000 - val_loss: 1.5912e-04 - val_accuracy: 1.0000\n",
      "Epoch 50/50\n",
      "4/4 [==============================] - 4s 867ms/step - loss: 1.6636e-04 - accuracy: 1.0000 - val_loss: 7.8234e-05 - val_accuracy: 1.0000\n"
     ]
    }
   ],
   "source": [
    "hist = model.fit(train, epochs=50, validation_data=validationData, callbacks=[tensorboard_callback])"
   ]
  },
  {
   "cell_type": "code",
   "execution_count": 417,
   "id": "be55b386-6900-4913-a7c2-e96d262077af",
   "metadata": {},
   "outputs": [],
   "source": [
    "model.save(os.path.join('model','planeOrCarModel.h5'))"
   ]
  },
  {
   "cell_type": "code",
   "execution_count": 418,
   "id": "c2a938d8-62d7-478d-872c-ac45911a158f",
   "metadata": {},
   "outputs": [],
   "source": [
    "new_planeOrCarModel = load_model(os.path.join('model','planeOrCarModel.h5'))"
   ]
  },
  {
   "cell_type": "markdown",
   "id": "67ef8900-e67e-49e4-bd81-60f2706c07d2",
   "metadata": {},
   "source": [
    "# Model Testing"
   ]
  },
  {
   "cell_type": "code",
   "execution_count": 451,
   "id": "9a13fe2f-52b0-44cc-8212-43b62c28068e",
   "metadata": {},
   "outputs": [],
   "source": [
    "testImage = cv2.imread('zukunftsauto.jpeg')"
   ]
  },
  {
   "cell_type": "code",
   "execution_count": 452,
   "id": "2bfb0690-28f6-424a-97c7-d6f2418a135a",
   "metadata": {},
   "outputs": [],
   "source": [
    "resizedTestImage = tf.image.resize(testImage, (256,256))"
   ]
  },
  {
   "cell_type": "code",
   "execution_count": 453,
   "id": "c9b4b7fa-3f8d-4472-a42c-d027f5c98ec7",
   "metadata": {},
   "outputs": [
    {
     "name": "stdout",
     "output_type": "stream",
     "text": [
      "1/1 [==============================] - 0s 30ms/step\n"
     ]
    }
   ],
   "source": [
    "predictionValue = new_planeOrCarModel.predict(np.expand_dims(resizedTestImage/255, 0))"
   ]
  },
  {
   "cell_type": "code",
   "execution_count": 454,
   "id": "3698eb28-8911-482b-b482-f942d3f361c3",
   "metadata": {},
   "outputs": [
    {
     "name": "stdout",
     "output_type": "stream",
     "text": [
      "Predicted class is car\n"
     ]
    }
   ],
   "source": [
    "if predictionValue > 0.5: \n",
    "    print(f'Predicted class is Plane')\n",
    "elif predictionValue < 0.5:\n",
    "    print(f'Predicted class is car')"
   ]
  },
  {
   "cell_type": "code",
   "execution_count": null,
   "id": "5624fb1a-837c-4d26-ba88-a502e38c2ee1",
   "metadata": {},
   "outputs": [],
   "source": []
  }
 ],
 "metadata": {
  "kernelspec": {
   "display_name": "Python 3 (ipykernel)",
   "language": "python",
   "name": "python3"
  },
  "language_info": {
   "codemirror_mode": {
    "name": "ipython",
    "version": 3
   },
   "file_extension": ".py",
   "mimetype": "text/x-python",
   "name": "python",
   "nbconvert_exporter": "python",
   "pygments_lexer": "ipython3",
   "version": "3.10.9"
  }
 },
 "nbformat": 4,
 "nbformat_minor": 5
}
